{
 "cells": [
  {
   "cell_type": "code",
   "execution_count": null,
   "id": "0d0aacab-df26-4d95-b7b3-f190e7143592",
   "metadata": {},
   "outputs": [],
   "source": []
  }
 ],
 "metadata": {
  "kernelspec": {
   "display_name": "",
   "name": ""
  },
  "language_info": {
   "name": ""
  }
 },
 "nbformat": 4,
 "nbformat_minor": 5
}
