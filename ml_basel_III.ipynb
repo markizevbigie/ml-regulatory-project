{
 "cells": [
  {
   "cell_type": "code",
   "execution_count": null,
   "id": "0d0aacab-df26-4d95-b7b3-f190e7143592",
   "metadata": {},
   "outputs": [],
   "source": [
    "# Machine Learning model to predict whether financial statements indicate a <6% Tier 1 Capital Ratio"
   ]
  },
  {
   "cell_type": "markdown",
   "id": "68e9344f-ff44-450b-8f46-27d78ba9411a",
   "metadata": {},
   "source": [
    "1. See what columns are essential\n",
    "    * Load in first two columns of every file\n",
    "    * def load_one(path):\n",
    "    Read the file (tab-delimited, skip the description row)\n",
    "\n",
    "    df = pd.read_csv(\n",
    "   \n",
    "        path,\n",
    "        sep=\"\\t\",\n",
    "        header=0,\n",
    "        nrows=2,\n",
    "        dtype=str\n",
    "    )\n",
    "    * Look at descriptions and how many files have what\n",
    "3. Determine essential columns to keep and notate\n",
    "4. Any files that don't have essential columns are dropped\n",
    "5. Read in all files, merge to single DataFrame\n",
    "6. Force essential columns to float32\n",
    "    * df[c] = pd.to_numeric(df[c], errors=\"coerce\").astype(np.float32) for c in essential_cols\n",
    "    * Some models force conversion to float64, sklearn LogisticRegression does this\n",
    "7. Train, Test, Split\n",
    "8. Predict"
   ]
  },
  {
   "cell_type": "markdown",
   "id": "a6f9a580-b827-4c71-b7fc-2015d8b1ba90",
   "metadata": {},
   "source": [
    "FFIEC Website: https://cdr.ffiec.gov/public/ManageFacsimiles.aspx\n",
    "\n",
    "Bulk Data: https://cdr.ffiec.gov/public/PWS/DownloadBulkData.aspx\n",
    "\n",
    "Silent trip ups: \n",
    "\n",
    "- Have non-proportional amounts of what you're classifying.\n",
    "\n",
    "- Not having enought samples"
   ]
  },
  {
   "cell_type": "code",
   "execution_count": 7,
   "id": "0114d0d9-c17e-477f-8611-13d58d6f3c40",
   "metadata": {},
   "outputs": [],
   "source": [
    "import pandas as pd\n",
    "from pathlib import Path\n",
    "\n",
    "# 1. Function to import clean dataset | DONE\n",
    "# 2. Create list of dataframes for each file\n",
    "# 3. pd.concat for each in list\n",
    "def clean_import(x):\n",
    "        df = pd.read_csv(\n",
    "            x,\n",
    "            sep=\"\\t\",\n",
    "            low_memory=False\n",
    "        )\n",
    "        # Fill NaNs with empty string\n",
    "        df = df.fillna(\"\")\n",
    "        # Drop columns where both code and description are empty\n",
    "        keep = ~(df.iloc[0] == \"\")\n",
    "        df = df.loc[:, keep]\n",
    "        return df"
   ]
  },
  {
   "cell_type": "code",
   "execution_count": null,
   "id": "76e24f58-698c-47ae-9cf7-18fd4dab4f67",
   "metadata": {},
   "outputs": [],
   "source": [
    "# TODO: practice loopping through folders, look some examples up"
   ]
  },
  {
   "cell_type": "code",
   "execution_count": null,
   "id": "f6a49d6c-13ea-4183-9198-ff666c9b6020",
   "metadata": {},
   "outputs": [],
   "source": [
    "dfs = []\n",
    "folder = Path('C:/Users/Mark/Desktop/Python/github/ml-regulatory-project/RCRI Schedules')\n",
    "\n",
    "for path in sorted(folder.glob(\"*.txt\")):\n",
    "    try:\n",
    "        df = clean_import(path)\n",
    "        df[\"source_file\"] = path.name   # track origin\n",
    "        dfs.append(df)\n",
    "    except Exception as e:\n",
    "        print(f\"Error in {path.name}: {e}\")\n",
    "\n",
    "# Combine all into one big DataFrame\n",
    "panel = pd.concat(dfs, ignore_index=True)"
   ]
  },
  {
   "cell_type": "code",
   "execution_count": 9,
   "id": "ce0d4e10-3ea8-4eaa-aeca-287cbea351d5",
   "metadata": {},
   "outputs": [
    {
     "name": "stdout",
     "output_type": "stream",
     "text": [
      "Error in FFIEC CDR Call Schedule RCR 03312010(1 of 2).txt: [Errno 13] Permission denied: 'C:\\\\Users\\\\Mark\\\\Desktop\\\\Python\\\\github\\\\ml-regulatory-project\\\\RCRI Schedules'\n",
      "Error in FFIEC CDR Call Schedule RCR 03312011(1 of 2).txt: [Errno 13] Permission denied: 'C:\\\\Users\\\\Mark\\\\Desktop\\\\Python\\\\github\\\\ml-regulatory-project\\\\RCRI Schedules'\n",
      "Error in FFIEC CDR Call Schedule RCR 03312012(1 of 2).txt: [Errno 13] Permission denied: 'C:\\\\Users\\\\Mark\\\\Desktop\\\\Python\\\\github\\\\ml-regulatory-project\\\\RCRI Schedules'\n",
      "Error in FFIEC CDR Call Schedule RCR 03312013(1 of 2).txt: [Errno 13] Permission denied: 'C:\\\\Users\\\\Mark\\\\Desktop\\\\Python\\\\github\\\\ml-regulatory-project\\\\RCRI Schedules'\n",
      "Error in FFIEC CDR Call Schedule RCR 06302010(1 of 2).txt: [Errno 13] Permission denied: 'C:\\\\Users\\\\Mark\\\\Desktop\\\\Python\\\\github\\\\ml-regulatory-project\\\\RCRI Schedules'\n",
      "Error in FFIEC CDR Call Schedule RCR 06302011(1 of 2).txt: [Errno 13] Permission denied: 'C:\\\\Users\\\\Mark\\\\Desktop\\\\Python\\\\github\\\\ml-regulatory-project\\\\RCRI Schedules'\n",
      "Error in FFIEC CDR Call Schedule RCR 06302012(1 of 2).txt: [Errno 13] Permission denied: 'C:\\\\Users\\\\Mark\\\\Desktop\\\\Python\\\\github\\\\ml-regulatory-project\\\\RCRI Schedules'\n",
      "Error in FFIEC CDR Call Schedule RCR 06302013(1 of 2).txt: [Errno 13] Permission denied: 'C:\\\\Users\\\\Mark\\\\Desktop\\\\Python\\\\github\\\\ml-regulatory-project\\\\RCRI Schedules'\n",
      "Error in FFIEC CDR Call Schedule RCR 09302010(1 of 2).txt: [Errno 13] Permission denied: 'C:\\\\Users\\\\Mark\\\\Desktop\\\\Python\\\\github\\\\ml-regulatory-project\\\\RCRI Schedules'\n",
      "Error in FFIEC CDR Call Schedule RCR 09302011(1 of 2).txt: [Errno 13] Permission denied: 'C:\\\\Users\\\\Mark\\\\Desktop\\\\Python\\\\github\\\\ml-regulatory-project\\\\RCRI Schedules'\n",
      "Error in FFIEC CDR Call Schedule RCR 09302012(1 of 2).txt: [Errno 13] Permission denied: 'C:\\\\Users\\\\Mark\\\\Desktop\\\\Python\\\\github\\\\ml-regulatory-project\\\\RCRI Schedules'\n",
      "Error in FFIEC CDR Call Schedule RCR 09302013(1 of 2).txt: [Errno 13] Permission denied: 'C:\\\\Users\\\\Mark\\\\Desktop\\\\Python\\\\github\\\\ml-regulatory-project\\\\RCRI Schedules'\n",
      "Error in FFIEC CDR Call Schedule RCR 12312010(1 of 2).txt: [Errno 13] Permission denied: 'C:\\\\Users\\\\Mark\\\\Desktop\\\\Python\\\\github\\\\ml-regulatory-project\\\\RCRI Schedules'\n",
      "Error in FFIEC CDR Call Schedule RCR 12312011(1 of 2).txt: [Errno 13] Permission denied: 'C:\\\\Users\\\\Mark\\\\Desktop\\\\Python\\\\github\\\\ml-regulatory-project\\\\RCRI Schedules'\n",
      "Error in FFIEC CDR Call Schedule RCR 12312012(1 of 2).txt: [Errno 13] Permission denied: 'C:\\\\Users\\\\Mark\\\\Desktop\\\\Python\\\\github\\\\ml-regulatory-project\\\\RCRI Schedules'\n",
      "Error in FFIEC CDR Call Schedule RCR 12312013(1 of 2).txt: [Errno 13] Permission denied: 'C:\\\\Users\\\\Mark\\\\Desktop\\\\Python\\\\github\\\\ml-regulatory-project\\\\RCRI Schedules'\n",
      "Error in FFIEC CDR Call Schedule RCRI 03312015.txt: [Errno 13] Permission denied: 'C:\\\\Users\\\\Mark\\\\Desktop\\\\Python\\\\github\\\\ml-regulatory-project\\\\RCRI Schedules'\n",
      "Error in FFIEC CDR Call Schedule RCRI 03312016.txt: [Errno 13] Permission denied: 'C:\\\\Users\\\\Mark\\\\Desktop\\\\Python\\\\github\\\\ml-regulatory-project\\\\RCRI Schedules'\n",
      "Error in FFIEC CDR Call Schedule RCRI 03312017.txt: [Errno 13] Permission denied: 'C:\\\\Users\\\\Mark\\\\Desktop\\\\Python\\\\github\\\\ml-regulatory-project\\\\RCRI Schedules'\n",
      "Error in FFIEC CDR Call Schedule RCRI 03312018.txt: [Errno 13] Permission denied: 'C:\\\\Users\\\\Mark\\\\Desktop\\\\Python\\\\github\\\\ml-regulatory-project\\\\RCRI Schedules'\n",
      "Error in FFIEC CDR Call Schedule RCRI 03312019.txt: [Errno 13] Permission denied: 'C:\\\\Users\\\\Mark\\\\Desktop\\\\Python\\\\github\\\\ml-regulatory-project\\\\RCRI Schedules'\n",
      "Error in FFIEC CDR Call Schedule RCRI 03312020.txt: [Errno 13] Permission denied: 'C:\\\\Users\\\\Mark\\\\Desktop\\\\Python\\\\github\\\\ml-regulatory-project\\\\RCRI Schedules'\n",
      "Error in FFIEC CDR Call Schedule RCRI 03312021.txt: [Errno 13] Permission denied: 'C:\\\\Users\\\\Mark\\\\Desktop\\\\Python\\\\github\\\\ml-regulatory-project\\\\RCRI Schedules'\n",
      "Error in FFIEC CDR Call Schedule RCRI 03312022.txt: [Errno 13] Permission denied: 'C:\\\\Users\\\\Mark\\\\Desktop\\\\Python\\\\github\\\\ml-regulatory-project\\\\RCRI Schedules'\n",
      "Error in FFIEC CDR Call Schedule RCRI 03312023.txt: [Errno 13] Permission denied: 'C:\\\\Users\\\\Mark\\\\Desktop\\\\Python\\\\github\\\\ml-regulatory-project\\\\RCRI Schedules'\n",
      "Error in FFIEC CDR Call Schedule RCRI 03312024.txt: [Errno 13] Permission denied: 'C:\\\\Users\\\\Mark\\\\Desktop\\\\Python\\\\github\\\\ml-regulatory-project\\\\RCRI Schedules'\n",
      "Error in FFIEC CDR Call Schedule RCRI 03312025.txt: [Errno 13] Permission denied: 'C:\\\\Users\\\\Mark\\\\Desktop\\\\Python\\\\github\\\\ml-regulatory-project\\\\RCRI Schedules'\n",
      "Error in FFIEC CDR Call Schedule RCRI 06302015.txt: [Errno 13] Permission denied: 'C:\\\\Users\\\\Mark\\\\Desktop\\\\Python\\\\github\\\\ml-regulatory-project\\\\RCRI Schedules'\n",
      "Error in FFIEC CDR Call Schedule RCRI 06302016.txt: [Errno 13] Permission denied: 'C:\\\\Users\\\\Mark\\\\Desktop\\\\Python\\\\github\\\\ml-regulatory-project\\\\RCRI Schedules'\n",
      "Error in FFIEC CDR Call Schedule RCRI 06302017.txt: [Errno 13] Permission denied: 'C:\\\\Users\\\\Mark\\\\Desktop\\\\Python\\\\github\\\\ml-regulatory-project\\\\RCRI Schedules'\n",
      "Error in FFIEC CDR Call Schedule RCRI 06302018.txt: [Errno 13] Permission denied: 'C:\\\\Users\\\\Mark\\\\Desktop\\\\Python\\\\github\\\\ml-regulatory-project\\\\RCRI Schedules'\n",
      "Error in FFIEC CDR Call Schedule RCRI 06302019.txt: [Errno 13] Permission denied: 'C:\\\\Users\\\\Mark\\\\Desktop\\\\Python\\\\github\\\\ml-regulatory-project\\\\RCRI Schedules'\n",
      "Error in FFIEC CDR Call Schedule RCRI 06302020.txt: [Errno 13] Permission denied: 'C:\\\\Users\\\\Mark\\\\Desktop\\\\Python\\\\github\\\\ml-regulatory-project\\\\RCRI Schedules'\n",
      "Error in FFIEC CDR Call Schedule RCRI 06302021.txt: [Errno 13] Permission denied: 'C:\\\\Users\\\\Mark\\\\Desktop\\\\Python\\\\github\\\\ml-regulatory-project\\\\RCRI Schedules'\n",
      "Error in FFIEC CDR Call Schedule RCRI 06302022.txt: [Errno 13] Permission denied: 'C:\\\\Users\\\\Mark\\\\Desktop\\\\Python\\\\github\\\\ml-regulatory-project\\\\RCRI Schedules'\n",
      "Error in FFIEC CDR Call Schedule RCRI 06302023.txt: [Errno 13] Permission denied: 'C:\\\\Users\\\\Mark\\\\Desktop\\\\Python\\\\github\\\\ml-regulatory-project\\\\RCRI Schedules'\n",
      "Error in FFIEC CDR Call Schedule RCRI 06302024.txt: [Errno 13] Permission denied: 'C:\\\\Users\\\\Mark\\\\Desktop\\\\Python\\\\github\\\\ml-regulatory-project\\\\RCRI Schedules'\n",
      "Error in FFIEC CDR Call Schedule RCRI 06302025.txt: [Errno 13] Permission denied: 'C:\\\\Users\\\\Mark\\\\Desktop\\\\Python\\\\github\\\\ml-regulatory-project\\\\RCRI Schedules'\n",
      "Error in FFIEC CDR Call Schedule RCRI 09302015.txt: [Errno 13] Permission denied: 'C:\\\\Users\\\\Mark\\\\Desktop\\\\Python\\\\github\\\\ml-regulatory-project\\\\RCRI Schedules'\n",
      "Error in FFIEC CDR Call Schedule RCRI 09302016.txt: [Errno 13] Permission denied: 'C:\\\\Users\\\\Mark\\\\Desktop\\\\Python\\\\github\\\\ml-regulatory-project\\\\RCRI Schedules'\n",
      "Error in FFIEC CDR Call Schedule RCRI 09302017.txt: [Errno 13] Permission denied: 'C:\\\\Users\\\\Mark\\\\Desktop\\\\Python\\\\github\\\\ml-regulatory-project\\\\RCRI Schedules'\n",
      "Error in FFIEC CDR Call Schedule RCRI 09302018.txt: [Errno 13] Permission denied: 'C:\\\\Users\\\\Mark\\\\Desktop\\\\Python\\\\github\\\\ml-regulatory-project\\\\RCRI Schedules'\n",
      "Error in FFIEC CDR Call Schedule RCRI 09302019.txt: [Errno 13] Permission denied: 'C:\\\\Users\\\\Mark\\\\Desktop\\\\Python\\\\github\\\\ml-regulatory-project\\\\RCRI Schedules'\n",
      "Error in FFIEC CDR Call Schedule RCRI 09302020.txt: [Errno 13] Permission denied: 'C:\\\\Users\\\\Mark\\\\Desktop\\\\Python\\\\github\\\\ml-regulatory-project\\\\RCRI Schedules'\n",
      "Error in FFIEC CDR Call Schedule RCRI 09302021.txt: [Errno 13] Permission denied: 'C:\\\\Users\\\\Mark\\\\Desktop\\\\Python\\\\github\\\\ml-regulatory-project\\\\RCRI Schedules'\n",
      "Error in FFIEC CDR Call Schedule RCRI 09302022.txt: [Errno 13] Permission denied: 'C:\\\\Users\\\\Mark\\\\Desktop\\\\Python\\\\github\\\\ml-regulatory-project\\\\RCRI Schedules'\n",
      "Error in FFIEC CDR Call Schedule RCRI 09302023.txt: [Errno 13] Permission denied: 'C:\\\\Users\\\\Mark\\\\Desktop\\\\Python\\\\github\\\\ml-regulatory-project\\\\RCRI Schedules'\n",
      "Error in FFIEC CDR Call Schedule RCRI 09302024.txt: [Errno 13] Permission denied: 'C:\\\\Users\\\\Mark\\\\Desktop\\\\Python\\\\github\\\\ml-regulatory-project\\\\RCRI Schedules'\n",
      "Error in FFIEC CDR Call Schedule RCRI 12312015.txt: [Errno 13] Permission denied: 'C:\\\\Users\\\\Mark\\\\Desktop\\\\Python\\\\github\\\\ml-regulatory-project\\\\RCRI Schedules'\n",
      "Error in FFIEC CDR Call Schedule RCRI 12312016.txt: [Errno 13] Permission denied: 'C:\\\\Users\\\\Mark\\\\Desktop\\\\Python\\\\github\\\\ml-regulatory-project\\\\RCRI Schedules'\n",
      "Error in FFIEC CDR Call Schedule RCRI 12312017.txt: [Errno 13] Permission denied: 'C:\\\\Users\\\\Mark\\\\Desktop\\\\Python\\\\github\\\\ml-regulatory-project\\\\RCRI Schedules'\n",
      "Error in FFIEC CDR Call Schedule RCRI 12312018.txt: [Errno 13] Permission denied: 'C:\\\\Users\\\\Mark\\\\Desktop\\\\Python\\\\github\\\\ml-regulatory-project\\\\RCRI Schedules'\n",
      "Error in FFIEC CDR Call Schedule RCRI 12312019.txt: [Errno 13] Permission denied: 'C:\\\\Users\\\\Mark\\\\Desktop\\\\Python\\\\github\\\\ml-regulatory-project\\\\RCRI Schedules'\n",
      "Error in FFIEC CDR Call Schedule RCRI 12312020.txt: [Errno 13] Permission denied: 'C:\\\\Users\\\\Mark\\\\Desktop\\\\Python\\\\github\\\\ml-regulatory-project\\\\RCRI Schedules'\n",
      "Error in FFIEC CDR Call Schedule RCRI 12312021.txt: [Errno 13] Permission denied: 'C:\\\\Users\\\\Mark\\\\Desktop\\\\Python\\\\github\\\\ml-regulatory-project\\\\RCRI Schedules'\n",
      "Error in FFIEC CDR Call Schedule RCRI 12312022.txt: [Errno 13] Permission denied: 'C:\\\\Users\\\\Mark\\\\Desktop\\\\Python\\\\github\\\\ml-regulatory-project\\\\RCRI Schedules'\n",
      "Error in FFIEC CDR Call Schedule RCRI 12312023.txt: [Errno 13] Permission denied: 'C:\\\\Users\\\\Mark\\\\Desktop\\\\Python\\\\github\\\\ml-regulatory-project\\\\RCRI Schedules'\n",
      "Error in FFIEC CDR Call Schedule RCRI 12312024.txt: [Errno 13] Permission denied: 'C:\\\\Users\\\\Mark\\\\Desktop\\\\Python\\\\github\\\\ml-regulatory-project\\\\RCRI Schedules'\n",
      "Error in FFIEC CDR Call Schedule RCRIB 03312014.txt: [Errno 13] Permission denied: 'C:\\\\Users\\\\Mark\\\\Desktop\\\\Python\\\\github\\\\ml-regulatory-project\\\\RCRI Schedules'\n",
      "Error in FFIEC CDR Call Schedule RCRIB 06302014.txt: [Errno 13] Permission denied: 'C:\\\\Users\\\\Mark\\\\Desktop\\\\Python\\\\github\\\\ml-regulatory-project\\\\RCRI Schedules'\n",
      "Error in FFIEC CDR Call Schedule RCRIB 09302014.txt: [Errno 13] Permission denied: 'C:\\\\Users\\\\Mark\\\\Desktop\\\\Python\\\\github\\\\ml-regulatory-project\\\\RCRI Schedules'\n",
      "Error in FFIEC CDR Call Schedule RCRIB 12312014.txt: [Errno 13] Permission denied: 'C:\\\\Users\\\\Mark\\\\Desktop\\\\Python\\\\github\\\\ml-regulatory-project\\\\RCRI Schedules'\n"
     ]
    },
    {
     "data": {
      "text/plain": [
       "[]"
      ]
     },
     "execution_count": 9,
     "metadata": {},
     "output_type": "execute_result"
    }
   ],
   "source": [
    "dfs = []\n",
    "input_dir = Path('C:/Users/Mark/Desktop/Python/github/ml-regulatory-project/RCRI Schedules')\n",
    "\n",
    "for path in sorted(input_dir.glob(\"*.txt\")):\n",
    "    try:\n",
    "        df = clean_import(input_dir)\n",
    "        df[\"source_file\"] = path.name    # track orgin\n",
    "        dfs.append(df)\n",
    "    except Exception as e:\n",
    "        print(f\"Error in {path.name}: {e}\")\n",
    "\n",
    "dfs"
   ]
  },
  {
   "cell_type": "code",
   "execution_count": null,
   "id": "c63ad9f8-d413-496f-a82b-675102318b88",
   "metadata": {},
   "outputs": [],
   "source": [
    "# Look to Errno 13 and figure out"
   ]
  },
  {
   "cell_type": "code",
   "execution_count": null,
   "id": "9a8b1f2b-f173-4f9d-9ca9-5d5898675c52",
   "metadata": {},
   "outputs": [],
   "source": [
    "# Combine all into one big Dataframe\n",
    "panel = pd.concat(dfs. ignore_index=True)"
   ]
  },
  {
   "cell_type": "code",
   "execution_count": null,
   "id": "86c74d1d-245e-463d-9ddf-3847bdfa1920",
   "metadata": {},
   "outputs": [],
   "source": [
    "# Find any columns with just empty string in them only\n",
    "# Get rid of columns with zero data"
   ]
  },
  {
   "cell_type": "markdown",
   "id": "f5af5b12-8773-4ced-a23c-746b6d1f068f",
   "metadata": {},
   "source": [
    "F1-Score - a machine learning evaluation metric that measures a classifier's accuracy by taking the harmonic mean of precision and recall. It's a particularly useful metric for evaluating models, especially with imbalanced datasets, because it balances the trade-off between high precision and high recall. A perfect F1 score is 1 (100%), while the worst score is 0.\n",
    "https://www.google.com/search?client=firefox-b-1-d&q=machine+learning+f1+score\n",
    "\n",
    "Mean Absolute Error - Average distance of all data points from fitted trend line\n",
    "\n",
    "Validation Accuracy (For Random Forest) - How often model is correct overall. Not as useful if you don't have 50/50 split of classes (or 25/25/25/25 or whatever)"
   ]
  },
  {
   "cell_type": "code",
   "execution_count": null,
   "id": "d8c3fc9f-fefb-4d9b-a2d1-25c280eeeb67",
   "metadata": {},
   "outputs": [],
   "source": [
    "# Read in one file. \n",
    "# List columns and descriptions\n",
    "# List any file that does not contain that exact same columns"
   ]
  },
  {
   "cell_type": "code",
   "execution_count": null,
   "id": "a99cb110-3a63-451c-a9e1-5f73e3c812cd",
   "metadata": {},
   "outputs": [],
   "source": [
    "# Need more quarters worth of data, get at least 50 < 6%s. Just download as many as possible and look at\n",
    "# Look at all columns for each file\n",
    "# Any that are exactly the same, great\n",
    "# If not, do they have what we need?\n",
    "# Check dtypes"
   ]
  }
 ],
 "metadata": {
  "kernelspec": {
   "display_name": "Python 3 (ipykernel)",
   "language": "python",
   "name": "python3"
  },
  "language_info": {
   "codemirror_mode": {
    "name": "ipython",
    "version": 3
   },
   "file_extension": ".py",
   "mimetype": "text/x-python",
   "name": "python",
   "nbconvert_exporter": "python",
   "pygments_lexer": "ipython3",
   "version": "3.11.13"
  }
 },
 "nbformat": 4,
 "nbformat_minor": 5
}
